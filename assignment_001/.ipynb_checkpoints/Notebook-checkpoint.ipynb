{
 "cells": [
  {
   "cell_type": "markdown",
   "metadata": {},
   "source": [
    "# Regression"
   ]
  },
  {
   "cell_type": "markdown",
   "metadata": {},
   "source": [
    "## Build DPCPP App"
   ]
  },
  {
   "cell_type": "code",
   "execution_count": 52,
   "metadata": {},
   "outputs": [],
   "source": [
    "! dpcpp -o knn-regress regression.cpp"
   ]
  },
  {
   "cell_type": "markdown",
   "metadata": {},
   "source": [
    "#### Update job script for CPU"
   ]
  },
  {
   "cell_type": "markdown",
   "metadata": {},
   "source": [
    "Update job-regress.sh to execute on CPU device using the custom_selector in the binary"
   ]
  },
  {
   "cell_type": "code",
   "execution_count": 46,
   "metadata": {},
   "outputs": [
    {
     "name": "stdout",
     "output_type": "stream",
     "text": [
      "Overwriting job-regress.sh\n"
     ]
    }
   ],
   "source": [
    "%%writefile job-regress.sh\n",
    "#!/bin/bash\n",
    "\n",
    "./knn-regress -d cpu -p 28\n"
   ]
  },
  {
   "cell_type": "markdown",
   "metadata": {},
   "source": [
    "### CPU - Core"
   ]
  },
  {
   "cell_type": "code",
   "execution_count": 54,
   "metadata": {},
   "outputs": [
    {
     "name": "stdout",
     "output_type": "stream",
     "text": [
      "Job has been submitted to Intel(R) DevCloud and will execute soon.\n",
      "\n",
      "Job ID                    Name             User            Time Use S Queue\n",
      "------------------------- ---------------- --------------- -------- - -----\n",
      "822441.v-qsvr-1            job-regress.sh   u67633                 0 R batch          \n",
      "840830.v-qsvr-1            ...ub-singleuser u67633          00:03:26 R jupyterhub     \n",
      "840884.v-qsvr-1            job-regress.sh   u67633                 0 Q batch          \n",
      "\n",
      "Waiting for Output █████████████████████████████████████████████████████████████████████████████████ Done⬇\n",
      "\n",
      "########################################################################\n",
      "#      Date:           Sat 24 Apr 2021 12:38:45 PM PDT\n",
      "#    Job ID:           840884.v-qsvr-1.aidevcloud\n",
      "#      User:           u67633\n",
      "# Resources:           neednodes=1:core:ppn=2,nodes=1:core:ppn=2,walltime=06:00:00\n",
      "########################################################################\n",
      "\n",
      "Using CPU for DPCPP\n",
      "Device : Intel(R) Core(TM) i9-10920X CPU @ 3.50GHz\n",
      "N : 268435456 = 2^28\n",
      "Random Height: 66.254768\n",
      "Shortlisted calc_distance...\n",
      "280279: Weight: 184.674744, Dist: 0.000000\n",
      "3248545: Weight: 184.268326, Dist: 0.000000\n",
      "4799849: Weight: 184.522614, Dist: 0.000000\n",
      "6714160: Weight: 184.536697, Dist: 0.000000\n",
      "4800597: Weight: 184.691650, Dist: 0.000000\n",
      "With height 66.254768, we predict the person weight to be 184.538806 lbs\n",
      "Start: 1619293133 End: 1619293196\n",
      "\n",
      "########################################################################\n",
      "# End of output for job 840884.v-qsvr-1.aidevcloud\n",
      "# Date: Sat 24 Apr 2021 12:39:57 PM PDT\n",
      "########################################################################\n",
      "\n",
      "Job Completed in 81 seconds.\n"
     ]
    }
   ],
   "source": [
    "! chmod 755 q; chmod 755 job-regress.sh; if [ -x \"$(command -v qsub)\" ]; then ./q job-regress.sh core; else ./job-regress.sh core; fi"
   ]
  },
  {
   "cell_type": "markdown",
   "metadata": {},
   "source": [
    "### CPU - Xeon"
   ]
  },
  {
   "cell_type": "code",
   "execution_count": null,
   "metadata": {},
   "outputs": [],
   "source": [
    "! chmod 755 q; chmod 755 job-regress.sh; if [ -x \"$(command -v qsub)\" ]; then ./q job-regress.sh xeon; else ./job-regress.sh xeon; fi"
   ]
  },
  {
   "cell_type": "markdown",
   "metadata": {},
   "source": [
    "#### Update job script for GPU"
   ]
  },
  {
   "cell_type": "markdown",
   "metadata": {},
   "source": [
    "Update job-regress.sh to execute on GPU device using the custom_selector in the binary"
   ]
  },
  {
   "cell_type": "code",
   "execution_count": 76,
   "metadata": {},
   "outputs": [
    {
     "name": "stdout",
     "output_type": "stream",
     "text": [
      "Overwriting job-regress.sh\n"
     ]
    }
   ],
   "source": [
    "%%writefile job-regress.sh\n",
    "#!/bin/bash\n",
    "\n",
    "echo\n",
    "echo start: $(date \"+%H%M%S.%3N\")\n",
    "echo\n",
    "\n",
    "./knn-regress -d gpu\n",
    "\n",
    "echo\n",
    "echo stop:  $(date \"+%H%M%S.%3N\")\n",
    "echo\n"
   ]
  },
  {
   "cell_type": "markdown",
   "metadata": {},
   "source": [
    "### GPU - Gen 9"
   ]
  },
  {
   "cell_type": "code",
   "execution_count": 31,
   "metadata": {},
   "outputs": [
    {
     "name": "stdout",
     "output_type": "stream",
     "text": [
      "Job has been submitted to Intel(R) DevCloud and will execute soon.\n",
      "\n",
      "Job ID                    Name             User            Time Use S Queue\n",
      "------------------------- ---------------- --------------- -------- - -----\n",
      "822389.v-qsvr-1            ...ub-singleuser u67633          02:36:30 R jupyterhub     \n",
      "822422.v-qsvr-1            STDIN            u67633          00:34:36 R batch          \n",
      "822441.v-qsvr-1            job-regress.sh   u67633                 0 R batch          \n",
      "822469.v-qsvr-1            job-regress.sh   u67633                 0 Q batch          \n",
      "\n",
      "Waiting for Output █████████████████████████████████████████████████████████████████████████████ Done⬇\n",
      "\n",
      "########################################################################\n",
      "#      Date:           Sun 04 Apr 2021 11:18:53 AM PDT\n",
      "#    Job ID:           822469.v-qsvr-1.aidevcloud\n",
      "#      User:           u67633\n",
      "# Resources:           neednodes=1:gen9:ppn=2,nodes=1:gen9:ppn=2,walltime=06:00:00\n",
      "########################################################################\n",
      "\n",
      "\n",
      "start: 111856.859\n",
      "\n",
      "Using GPU for DPCPP\n",
      "Device : Intel(R) UHD Graphics P630 [0x3e96]\n",
      "Random Height: 72.95 \n",
      "Cal. Weight: 114.75, Dist: 0.00\n",
      "Cal. Weight: 126.59, Dist: 0.00\n",
      "Cal. Weight: 136.15, Dist: 0.00\n",
      "Cal. Weight: 154.97, Dist: 0.00\n",
      "Cal. Weight: 166.95, Dist: 0.00\n",
      "With height 72.95, we predict the person weight to be 139.88 lbs\n",
      "Start: 1617560343 End: 1617560403\n",
      "\n",
      "stop: 112004.034\n",
      "\n",
      "\n",
      "########################################################################\n",
      "# End of output for job 822469.v-qsvr-1.aidevcloud\n",
      "# Date: Sun 04 Apr 2021 11:20:04 AM PDT\n",
      "########################################################################\n",
      "\n",
      "Job Completed in 77 seconds.\n"
     ]
    }
   ],
   "source": [
    "! chmod 755 q; chmod 755 job-regress.sh; if [ -x \"$(command -v qsub)\" ]; then ./q job-regress.sh gen9; else ./job-regress.sh gen9; fi"
   ]
  },
  {
   "cell_type": "markdown",
   "metadata": {},
   "source": [
    "### GPU - Iris Xe Max"
   ]
  },
  {
   "cell_type": "code",
   "execution_count": null,
   "metadata": {},
   "outputs": [
    {
     "name": "stdout",
     "output_type": "stream",
     "text": [
      "Job has been submitted to Intel(R) DevCloud and will execute soon.\n",
      "\n",
      "Job ID                    Name             User            Time Use S Queue\n",
      "------------------------- ---------------- --------------- -------- - -----\n",
      "822441.v-qsvr-1            job-regress.sh   u67633                 0 R batch          \n",
      "832073.v-qsvr-1            ...ub-singleuser u67633          00:06:31 R jupyterhub     \n",
      "832512.v-qsvr-1            job-regress.sh   u67633                 0 Q batch          \n",
      "\n",
      "Waiting for Output ██████████████████████████████████"
     ]
    }
   ],
   "source": [
    "! chmod 755 q; chmod 755 job-regress.sh; if [ -x \"$(command -v qsub)\" ]; then ./q job-regress.sh iris_xe_max; else ./job-regress.sh iris_xe_max; fi"
   ]
  },
  {
   "cell_type": "markdown",
   "metadata": {},
   "source": [
    "# Classification"
   ]
  },
  {
   "cell_type": "markdown",
   "metadata": {},
   "source": [
    "## Build DPCPP App"
   ]
  },
  {
   "cell_type": "code",
   "execution_count": 5,
   "metadata": {},
   "outputs": [],
   "source": [
    "! dpcpp -o knn-classify classification.cpp"
   ]
  },
  {
   "cell_type": "markdown",
   "metadata": {},
   "source": [
    "#### Update job script for CPU"
   ]
  },
  {
   "cell_type": "markdown",
   "metadata": {},
   "source": [
    "Update job-regress.sh to execute on CPU device using the custom_selector in the binary"
   ]
  },
  {
   "cell_type": "code",
   "execution_count": 6,
   "metadata": {},
   "outputs": [
    {
     "name": "stdout",
     "output_type": "stream",
     "text": [
      "Overwriting job-classify.sh\n"
     ]
    }
   ],
   "source": [
    "%%writefile job-classify.sh\n",
    "#!/bin/bash\n",
    "\n",
    "echo\n",
    "echo start: $(date \"+%H%M%S.%3N\")\n",
    "echo\n",
    "\n",
    "./knn-classify -d cpu\n",
    "\n",
    "echo\n",
    "echo stop:  $(date \"+%H%M%S.%3N\")\n",
    "echo\n"
   ]
  },
  {
   "cell_type": "markdown",
   "metadata": {},
   "source": [
    "### CPU - Core"
   ]
  },
  {
   "cell_type": "code",
   "execution_count": 7,
   "metadata": {},
   "outputs": [
    {
     "name": "stdout",
     "output_type": "stream",
     "text": [
      "Job has been submitted to Intel(R) DevCloud and will execute soon.\n",
      "\n",
      "Job ID                    Name             User            Time Use S Queue\n",
      "------------------------- ---------------- --------------- -------- - -----\n",
      "822441.v-qsvr-1            job-regress.sh   u67633                 0 R batch          \n",
      "822780.v-qsvr-1            ...ub-singleuser u67633          00:00:28 R jupyterhub     \n",
      "822784.v-qsvr-1            job-classify.sh  u67633                 0 Q batch          \n",
      "\n",
      "Waiting for Output ████████████████████████████████████████████████████ Done⬇\n",
      "\n",
      "########################################################################\n",
      "#      Date:           Sun 04 Apr 2021 09:27:32 PM PDT\n",
      "#    Job ID:           822784.v-qsvr-1.aidevcloud\n",
      "#      User:           u67633\n",
      "# Resources:           neednodes=1:core:ppn=2,nodes=1:core:ppn=2,walltime=06:00:00\n",
      "########################################################################\n",
      "\n",
      "\n",
      "start: 212735.850\n",
      "\n",
      "Using CPU for DPCPP\n",
      "Device : Intel(R) Core(TM) i9-10920X CPU @ 3.50GHz\n",
      "N size : 268435456\n",
      "Random Age: 78  \n",
      "Before Sort:\n",
      "Age: 89, Choice: 1, Dist: 11\n",
      "Age: 66, Choice: 0, Dist: 12\n",
      "Age: 37, Choice: 0, Dist: 41\n",
      "Age: 30, Choice: 0, Dist: 48\n",
      "Age: 28, Choice: 0, Dist: 50\n",
      "Age: 87, Choice: 0, Dist: 9\n",
      "Age: 47, Choice: 0, Dist: 31\n",
      "Age: 50, Choice: 1, Dist: 28\n",
      "Age: 81, Choice: 0, Dist: 3\n",
      "Age: 72, Choice: 1, Dist: 6\n",
      "Age: 45, Choice: 0, Dist: 33\n",
      "Age: 84, Choice: 0, Dist: 6\n",
      "Age: 55, Choice: 0, Dist: 23\n",
      "Age: 60, Choice: 0, Dist: 18\n",
      "Age: 62, Choice: 0, Dist: 16\n",
      "Age: 29, Choice: 0, Dist: 49\n",
      "Age: 29, Choice: 0, Dist: 49\n",
      "Age: 58, Choice: 0, Dist: 20\n",
      "Age: 30, Choice: 0, Dist: 48\n",
      "Age: 38, Choice: 1, Dist: 40\n",
      "ParallelBitonicSort Sort:\n",
      "Choice: 0, Dist: 101\n",
      "Choice: 0, Dist: 289\n",
      "Choice: 0, Dist: 283\n",
      "Choice: 0, Dist: 1006\n",
      "Choice: 0, Dist: 523\n",
      "Choice: 0, Dist: 930\n",
      "Choice: 0, Dist: 767\n",
      "Choice: 0, Dist: 312\n",
      "Choice: 0, Dist: 785\n",
      "Choice: 0, Dist: 1664\n",
      "Choice: 0, Dist: 820\n",
      "Choice: 0, Dist: 1289\n",
      "Choice: 0, Dist: 1345\n",
      "Choice: 0, Dist: 1507\n",
      "Choice: 0, Dist: 1115\n",
      "Choice: 0, Dist: 1150\n",
      "Choice: 0, Dist: 832\n",
      "Choice: 0, Dist: 787\n",
      "Choice: 0, Dist: 977\n",
      "Choice: 0, Dist: 1498\n",
      "After Sort:\n",
      "Age: 78, Choice: 0, Dist: 0\n",
      "Age: 78, Choice: 0, Dist: 0\n",
      "Age: 78, Choice: 1, Dist: 0\n",
      "Age: 78, Choice: 0, Dist: 0\n",
      "Age: 78, Choice: 0, Dist: 0\n",
      "Age: 78, Choice: 1, Dist: 0\n",
      "Age: 78, Choice: 0, Dist: 0\n",
      "Age: 78, Choice: 1, Dist: 0\n",
      "Age: 78, Choice: 0, Dist: 0\n",
      "Age: 78, Choice: 1, Dist: 0\n",
      "Age: 78, Choice: 1, Dist: 0\n",
      "Age: 78, Choice: 1, Dist: 0\n",
      "Age: 78, Choice: 1, Dist: 0\n",
      "Age: 78, Choice: 0, Dist: 0\n",
      "Age: 78, Choice: 0, Dist: 0\n",
      "Age: 78, Choice: 1, Dist: 0\n",
      "Age: 78, Choice: 1, Dist: 0\n",
      "Age: 78, Choice: 1, Dist: 0\n",
      "Age: 78, Choice: 0, Dist: 0\n",
      "Age: 78, Choice: 1, Dist: 0\n",
      "With Age 78, we predict the person dislikes pineapple on pizza\n",
      "Start: 1617596865 End: 1617596900\n",
      "\n",
      "stop: 212820.623\n",
      "\n",
      "\n",
      "########################################################################\n",
      "# End of output for job 822784.v-qsvr-1.aidevcloud\n",
      "# Date: Sun 04 Apr 2021 09:28:20 PM PDT\n",
      "########################################################################\n",
      "\n",
      "Job Completed in 52 seconds.\n"
     ]
    }
   ],
   "source": [
    "! chmod 755 q; chmod 755 job-classify.sh; if [ -x \"$(command -v qsub)\" ]; then ./q job-classify.sh core; else ./job-classify.sh core; fi"
   ]
  },
  {
   "cell_type": "markdown",
   "metadata": {},
   "source": [
    "### CPU - Xeon"
   ]
  },
  {
   "cell_type": "code",
   "execution_count": 36,
   "metadata": {},
   "outputs": [
    {
     "name": "stdout",
     "output_type": "stream",
     "text": [
      "Job has been submitted to Intel(R) DevCloud and will execute soon.\n",
      "\n",
      "Job ID                    Name             User            Time Use S Queue\n",
      "------------------------- ---------------- --------------- -------- - -----\n",
      "822441.v-qsvr-1            job-regress.sh   u67633                 0 R batch          \n",
      "822691.v-qsvr-1            ...ub-singleuser u67633          00:01:41 R jupyterhub     \n",
      "822730.v-qsvr-1            job-classify.sh  u67633                 0 Q batch          \n",
      "\n",
      "Waiting for Output ███████████████████████████████████████████████████ Done⬇\n",
      "\n",
      "########################################################################\n",
      "#      Date:           Sun Apr  4 18:28:28 PDT 2021\n",
      "#    Job ID:           822730.v-qsvr-1.aidevcloud\n",
      "#      User:           u67633\n",
      "# Resources:           neednodes=1:xeon:ppn=2,nodes=1:xeon:ppn=2,walltime=06:00:00\n",
      "########################################################################\n",
      "\n",
      "\n",
      "start: 182833.894\n",
      "\n",
      "Using CPU for DPCPP\n",
      "Device : Intel(R) Xeon(R) Gold 6128 CPU @ 3.40GHz\n",
      "N size : 268435456\n",
      "Random Age: 63  \n",
      "With Age 63, we predict the person likes pineapple on pizza\n",
      "Start: 1617586125 End: 1617586153\n",
      "\n",
      "stop: 182913.503\n",
      "\n",
      "\n",
      "########################################################################\n",
      "# End of output for job 822730.v-qsvr-1.aidevcloud\n",
      "# Date: Sun Apr  4 18:29:13 PDT 2021\n",
      "########################################################################\n",
      "\n",
      "Job Completed in 51 seconds.\n"
     ]
    }
   ],
   "source": [
    "! chmod 755 q; chmod 755 job-classify.sh; if [ -x \"$(command -v qsub)\" ]; then ./q job-classify.sh xeon; else ./job-classify.sh xeon; fi"
   ]
  },
  {
   "cell_type": "markdown",
   "metadata": {},
   "source": [
    "#### Update job script for GPU"
   ]
  },
  {
   "cell_type": "markdown",
   "metadata": {},
   "source": [
    "Update job-regress.sh to execute on GPU device using the custom_selector in the binary"
   ]
  },
  {
   "cell_type": "code",
   "execution_count": 73,
   "metadata": {},
   "outputs": [
    {
     "name": "stdout",
     "output_type": "stream",
     "text": [
      "Overwriting job-classify.sh\n"
     ]
    }
   ],
   "source": [
    "%%writefile job-classify.sh\n",
    "#!/bin/bash\n",
    "\n",
    "export OverrideDefaultFP64Settings=1 \n",
    "export IGC_EnableDPEmulation=1 \n",
    "\n",
    "\n",
    "echo\n",
    "echo start: $(date \"+%H%M%S.%3N\")\n",
    "echo\n",
    "\n",
    "./knn-classify -d gpu\n",
    "\n",
    "echo\n",
    "echo stop:  $(date \"+%H%M%S.%3N\")\n",
    "echo\n"
   ]
  },
  {
   "cell_type": "markdown",
   "metadata": {},
   "source": [
    "### GPU - Gen 9"
   ]
  },
  {
   "cell_type": "code",
   "execution_count": 33,
   "metadata": {},
   "outputs": [
    {
     "name": "stdout",
     "output_type": "stream",
     "text": [
      "Job has been submitted to Intel(R) DevCloud and will execute soon.\n",
      "\n",
      "Job ID                    Name             User            Time Use S Queue\n",
      "------------------------- ---------------- --------------- -------- - -----\n",
      "822441.v-qsvr-1            job-regress.sh   u67633                 0 R batch          \n",
      "822691.v-qsvr-1            ...ub-singleuser u67633          00:01:35 R jupyterhub     \n",
      "822725.v-qsvr-1            job-classify.sh  u67633                 0 Q batch          \n",
      "\n",
      "Waiting for Output █████████████████████████████████████████████████████ Done⬇\n",
      "\n",
      "########################################################################\n",
      "#      Date:           Sun 04 Apr 2021 06:18:20 PM PDT\n",
      "#    Job ID:           822725.v-qsvr-1.aidevcloud\n",
      "#      User:           u67633\n",
      "# Resources:           neednodes=1:gen9:ppn=2,nodes=1:gen9:ppn=2,walltime=06:00:00\n",
      "########################################################################\n",
      "\n",
      "\n",
      "start: 181826.049\n",
      "\n",
      "Using GPU for DPCPP\n",
      "Device : Intel(R) UHD Graphics P630 [0x3e96]\n",
      "N size : 268435456\n",
      "Random Age: 89  \n",
      "With Age 89, we predict the person dislikes pineapple on pizza\n",
      "Start: 1617585515 End: 1617585547\n",
      "\n",
      "stop: 181907.229\n",
      "\n",
      "\n",
      "########################################################################\n",
      "# End of output for job 822725.v-qsvr-1.aidevcloud\n",
      "# Date: Sun 04 Apr 2021 06:19:07 PM PDT\n",
      "########################################################################\n",
      "\n",
      "Job Completed in 53 seconds.\n"
     ]
    }
   ],
   "source": [
    "! chmod 755 q; chmod 755 job-classify.sh; if [ -x \"$(command -v qsub)\" ]; then ./q job-classify.sh gen9; else ./job-classify.sh gen9; fi"
   ]
  },
  {
   "cell_type": "markdown",
   "metadata": {},
   "source": [
    "### GPU - Iris Max"
   ]
  },
  {
   "cell_type": "code",
   "execution_count": 74,
   "metadata": {},
   "outputs": [
    {
     "name": "stdout",
     "output_type": "stream",
     "text": [
      "Job has been submitted to Intel(R) DevCloud and will execute soon.\n",
      "\n",
      "Job ID                    Name             User            Time Use S Queue\n",
      "------------------------- ---------------- --------------- -------- - -----\n",
      "822441.v-qsvr-1            job-regress.sh   u67633                 0 R batch          \n",
      "832073.v-qsvr-1            ...ub-singleuser u67633          00:06:14 R jupyterhub     \n",
      "832506.v-qsvr-1            job-classify.sh  u67633                 0 Q batch          \n",
      "\n",
      "Waiting for Output ████████^C\n"
     ]
    }
   ],
   "source": [
    "! chmod 755 q; chmod 755 job-classify.sh; if [ -x \"$(command -v qsub)\" ]; then ./q job-classify.sh iris_xe_max; else ./job-classify.sh iris_xe_max; fi"
   ]
  },
  {
   "cell_type": "code",
   "execution_count": null,
   "metadata": {},
   "outputs": [],
   "source": []
  }
 ],
 "metadata": {
  "kernelspec": {
   "display_name": "Python 3.7 (Intel® oneAPI)",
   "language": "python",
   "name": "c009-intel_distribution_of_python_3_oneapi-beta05-python"
  },
  "language_info": {
   "codemirror_mode": {
    "name": "ipython",
    "version": 3
   },
   "file_extension": ".py",
   "mimetype": "text/x-python",
   "name": "python",
   "nbconvert_exporter": "python",
   "pygments_lexer": "ipython3",
   "version": "3.7.9"
  }
 },
 "nbformat": 4,
 "nbformat_minor": 4
}
