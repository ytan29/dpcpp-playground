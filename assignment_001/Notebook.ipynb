{
 "cells": [
  {
   "cell_type": "markdown",
   "metadata": {},
   "source": [
    "# Regression"
   ]
  },
  {
   "cell_type": "markdown",
   "metadata": {},
   "source": [
    "## Build DPCPP App"
   ]
  },
  {
   "cell_type": "code",
   "execution_count": 32,
   "metadata": {},
   "outputs": [],
   "source": [
    "! dpcpp -o knn-regress regression.cpp"
   ]
  },
  {
   "cell_type": "markdown",
   "metadata": {},
   "source": [
    "#### Update job script for CPU"
   ]
  },
  {
   "cell_type": "markdown",
   "metadata": {},
   "source": [
    "Update job-regress.sh to execute on CPU device using the custom_selector in the binary"
   ]
  },
  {
   "cell_type": "code",
   "execution_count": 10,
   "metadata": {},
   "outputs": [
    {
     "name": "stdout",
     "output_type": "stream",
     "text": [
      "Overwriting job-regress.sh\n"
     ]
    }
   ],
   "source": [
    "%%writefile job-regress.sh\n",
    "#!/bin/bash\n",
    "\n",
    "./knn-regress -d cpu -p 28\n"
   ]
  },
  {
   "cell_type": "markdown",
   "metadata": {},
   "source": [
    "### CPU - Core"
   ]
  },
  {
   "cell_type": "code",
   "execution_count": 33,
   "metadata": {},
   "outputs": [
    {
     "name": "stdout",
     "output_type": "stream",
     "text": [
      "Job has been submitted to Intel(R) DevCloud and will execute soon.\n",
      "\n",
      "Job ID                    Name             User            Time Use S Queue\n",
      "------------------------- ---------------- --------------- -------- - -----\n",
      "822441.v-qsvr-1            job-regress.sh   u67633                 0 R batch          \n",
      "841072.v-qsvr-1            ...ub-singleuser u67633          00:02:29 R jupyterhub     \n",
      "841109.v-qsvr-1            job-regress.sh   u67633                 0 Q batch          \n",
      "\n",
      "Waiting for Output ████████████████████████████████████████████████████████████████████████████████████████████████████████████████████████\n",
      "\n",
      "TimeOut 120 seconds: Job is still queued for execution, check for output file later (job-regress.sh.o841109)\n",
      "\n",
      " Done⬇\n",
      "\n",
      "########################################################################\n",
      "#      Date:           Sun 25 Apr 2021 12:12:47 AM PDT\n",
      "#    Job ID:           841109.v-qsvr-1.aidevcloud\n",
      "#      User:           u67633\n",
      "# Resources:           neednodes=1:core:ppn=2,nodes=1:core:ppn=2,walltime=06:00:00\n",
      "########################################################################\n",
      "\n",
      "Using CPU for DPCPP\n",
      "Device : Intel(R) Core(TM) i9-10920X CPU @ 3.50GHz\n",
      "N : 268435456 = 2^28\n",
      "Random Height: 61.981312\n",
      "Start: 1619334775 End: 1619334837 Spent: 62\n",
      "Shortlisted calc_distance...\n",
      "10572205: Weight: 164.468597, Dist: 0.000000\n",
      "9755633: Weight: 164.500290, Dist: 0.000000\n",
      "10032641: Weight: 164.543945, Dist: 0.000000\n",
      "23979031: Weight: 164.582703, Dist: 0.000000\n",
      "18570109: Weight: 164.525650, Dist: 0.000000\n",
      "With height 61.981312, we predict the person weight to be 164.524237 lbs\n",
      "\n",
      "########################################################################\n",
      "# End of output for job 841109.v-qsvr-1.aidevcloud\n",
      "# Date: Sun 25 Apr 2021 12:13:57 AM PDT\n",
      "########################################################################\n",
      "\n",
      "Job Completed in 120 seconds.\n"
     ]
    }
   ],
   "source": [
    "! chmod 755 q; chmod 755 job-regress.sh; if [ -x \"$(command -v qsub)\" ]; then ./q job-regress.sh core; else ./job-regress.sh core; fi"
   ]
  },
  {
   "cell_type": "markdown",
   "metadata": {},
   "source": [
    "### CPU - Xeon"
   ]
  },
  {
   "cell_type": "code",
   "execution_count": 38,
   "metadata": {},
   "outputs": [
    {
     "name": "stdout",
     "output_type": "stream",
     "text": [
      "Job has been submitted to Intel(R) DevCloud and will execute soon.\n",
      "\n",
      "Job ID                    Name             User            Time Use S Queue\n",
      "------------------------- ---------------- --------------- -------- - -----\n",
      "822441.v-qsvr-1            job-regress.sh   u67633                 0 R batch          \n",
      "841072.v-qsvr-1            ...ub-singleuser u67633          00:03:04 R jupyterhub     \n",
      "841118.v-qsvr-1            job-regress.sh   u67633                 0 Q batch          \n",
      "\n",
      "Waiting for Output ██████████████████████████████████████████████████████████████████████████████████████████████████████████ Done⬇\n",
      "\n",
      "########################################################################\n",
      "#      Date:           Sun Apr 25 00:24:43 PDT 2021\n",
      "#    Job ID:           841118.v-qsvr-1.aidevcloud\n",
      "#      User:           u67633\n",
      "# Resources:           neednodes=1:xeon:ppn=2,nodes=1:xeon:ppn=2,walltime=06:00:00\n",
      "########################################################################\n",
      "\n",
      "Using CPU for DPCPP\n",
      "Device : Intel(R) Xeon(R) Gold 6128 CPU @ 3.40GHz\n",
      "N : 268435456 = 2^28\n",
      "Random Height: 55.833679\n",
      "Start: 1619335495 End: 1619335543 Spent: 48\n",
      "Shortlisted calc_distance...\n",
      "1835058: Weight: 148.117676, Dist: 0.000000\n",
      "2542262: Weight: 148.316299, Dist: 0.000000\n",
      "3181362: Weight: 148.070465, Dist: 0.000000\n",
      "3510380: Weight: 148.396606, Dist: 0.000000\n",
      "15817031: Weight: 148.087372, Dist: 0.000000\n",
      "With height 55.833679, we predict the person weight to be 148.197684 lbs\n",
      "\n",
      "########################################################################\n",
      "# End of output for job 841118.v-qsvr-1.aidevcloud\n",
      "# Date: Sun Apr 25 00:25:44 PDT 2021\n",
      "########################################################################\n",
      "\n",
      "Job Completed in 106 seconds.\n"
     ]
    }
   ],
   "source": [
    "! chmod 755 q; chmod 755 job-regress.sh; if [ -x \"$(command -v qsub)\" ]; then ./q job-regress.sh xeon; else ./job-regress.sh xeon; fi"
   ]
  },
  {
   "cell_type": "markdown",
   "metadata": {},
   "source": [
    "#### Update job script for GPU"
   ]
  },
  {
   "cell_type": "markdown",
   "metadata": {},
   "source": [
    "Update job-regress.sh to execute on GPU device using the custom_selector in the binary"
   ]
  },
  {
   "cell_type": "code",
   "execution_count": 39,
   "metadata": {},
   "outputs": [
    {
     "name": "stdout",
     "output_type": "stream",
     "text": [
      "Overwriting job-regress.sh\n"
     ]
    }
   ],
   "source": [
    "%%writefile job-regress.sh\n",
    "#!/bin/bash\n",
    "\n",
    "./knn-regress -d gpu -p 28\n"
   ]
  },
  {
   "cell_type": "markdown",
   "metadata": {},
   "source": [
    "### GPU - Gen 9"
   ]
  },
  {
   "cell_type": "code",
   "execution_count": 44,
   "metadata": {},
   "outputs": [
    {
     "name": "stdout",
     "output_type": "stream",
     "text": [
      "Job has been submitted to Intel(R) DevCloud and will execute soon.\n",
      "\n",
      "Job ID                    Name             User            Time Use S Queue\n",
      "------------------------- ---------------- --------------- -------- - -----\n",
      "822441.v-qsvr-1            job-regress.sh   u67633                 0 R batch          \n",
      "841072.v-qsvr-1            ...ub-singleuser u67633          00:03:31 R jupyterhub     \n",
      "841125.v-qsvr-1            job-regress.sh   u67633                 0 Q batch          \n",
      "\n",
      "Waiting for Output ███████████████████████████████████████████████████████████ Done⬇\n",
      "\n",
      "########################################################################\n",
      "#      Date:           Sun 25 Apr 2021 12:35:53 AM PDT\n",
      "#    Job ID:           841125.v-qsvr-1.aidevcloud\n",
      "#      User:           u67633\n",
      "# Resources:           neednodes=1:gen9:ppn=2,nodes=1:gen9:ppn=2,walltime=06:00:00\n",
      "########################################################################\n",
      "\n",
      "Using GPU for DPCPP\n",
      "Device : Intel(R) UHD Graphics P630 [0x3e96]\n",
      "N : 268435456 = 2^28\n",
      "Random Height: 71.376534\n",
      "Start: 1619336160 End: 1619336201 Spent: 41\n",
      "Shortlisted calc_distance...\n",
      "1338806: Weight: 122.096771, Dist: 0.000000\n",
      "6269514: Weight: 122.148193, Dist: 0.000000\n",
      "9514499: Weight: 121.792480, Dist: 0.000000\n",
      "15558224: Weight: 121.973503, Dist: 0.000000\n",
      "20573573: Weight: 122.227783, Dist: 0.000000\n",
      "With height 71.376534, we predict the person weight to be 122.047746 lbs\n",
      "\n",
      "########################################################################\n",
      "# End of output for job 841125.v-qsvr-1.aidevcloud\n",
      "# Date: Sun 25 Apr 2021 12:36:41 AM PDT\n",
      "########################################################################\n",
      "\n",
      "Job Completed in 59 seconds.\n"
     ]
    }
   ],
   "source": [
    "! chmod 755 q; chmod 755 job-regress.sh; if [ -x \"$(command -v qsub)\" ]; then ./q job-regress.sh gen9; else ./job-regress.sh gen9; fi"
   ]
  },
  {
   "cell_type": "markdown",
   "metadata": {},
   "source": [
    "### GPU - Iris Xe Max"
   ]
  },
  {
   "cell_type": "code",
   "execution_count": 49,
   "metadata": {},
   "outputs": [
    {
     "name": "stdout",
     "output_type": "stream",
     "text": [
      "Job has been submitted to Intel(R) DevCloud and will execute soon.\n",
      "\n",
      "Job ID                    Name             User            Time Use S Queue\n",
      "------------------------- ---------------- --------------- -------- - -----\n",
      "822441.v-qsvr-1            job-regress.sh   u67633                 0 R batch          \n",
      "841072.v-qsvr-1            ...ub-singleuser u67633          00:03:39 R jupyterhub     \n",
      "841130.v-qsvr-1            job-regress.sh   u67633                 0 Q batch          \n",
      "\n",
      "Waiting for Output ████████████████████████████ Done⬇\n",
      "\n",
      "########################################################################\n",
      "#      Date:           Sun 25 Apr 2021 12:43:22 AM PDT\n",
      "#    Job ID:           841130.v-qsvr-1.aidevcloud\n",
      "#      User:           u67633\n",
      "# Resources:           neednodes=1:iris_xe_max:ppn=2,nodes=1:iris_xe_max:ppn=2,walltime=06:00:00\n",
      "########################################################################\n",
      "\n",
      "Using GPU for DPCPP\n",
      "Device : Intel(R) Iris(R) Xe MAX Graphics [0x4905]\n",
      "N : 268435456 = 2^28\n",
      "Random Height: 69.330948\n",
      "Start: 1619336611 End: 1619336618 Spent: 7\n",
      "Shortlisted calc_distance...\n",
      "0: Weight: 128.857864, Dist: 69.330948\n",
      "1: Weight: 158.288132, Dist: 69.330948\n",
      "2: Weight: 134.180298, Dist: 69.330948\n",
      "3: Weight: 154.129333, Dist: 69.330948\n",
      "4: Weight: 153.481094, Dist: 69.330948\n",
      "With height 69.330948, we predict the person weight to be 145.787344 lbs\n",
      "\n",
      "########################################################################\n",
      "# End of output for job 841130.v-qsvr-1.aidevcloud\n",
      "# Date: Sun 25 Apr 2021 12:43:39 AM PDT\n",
      "########################################################################\n",
      "\n",
      "Job Completed in 28 seconds.\n"
     ]
    }
   ],
   "source": [
    "! chmod 755 q; chmod 755 job-regress.sh; if [ -x \"$(command -v qsub)\" ]; then ./q job-regress.sh iris_xe_max; else ./job-regress.sh iris_xe_max; fi"
   ]
  },
  {
   "cell_type": "markdown",
   "metadata": {},
   "source": [
    "# Classification"
   ]
  },
  {
   "cell_type": "markdown",
   "metadata": {},
   "source": [
    "## Build DPCPP App"
   ]
  },
  {
   "cell_type": "code",
   "execution_count": 50,
   "metadata": {},
   "outputs": [],
   "source": [
    "! dpcpp -o knn-classify classification.cpp"
   ]
  },
  {
   "cell_type": "markdown",
   "metadata": {},
   "source": [
    "#### Update job script for CPU"
   ]
  },
  {
   "cell_type": "markdown",
   "metadata": {},
   "source": [
    "Update job-regress.sh to execute on CPU device using the custom_selector in the binary"
   ]
  },
  {
   "cell_type": "code",
   "execution_count": 74,
   "metadata": {},
   "outputs": [
    {
     "name": "stdout",
     "output_type": "stream",
     "text": [
      "Overwriting job-classify.sh\n"
     ]
    }
   ],
   "source": [
    "%%writefile job-classify.sh\n",
    "#!/bin/bash\n",
    "\n",
    "./knn-classify -d cpu -p 28\n"
   ]
  },
  {
   "cell_type": "markdown",
   "metadata": {},
   "source": [
    "### CPU - Core"
   ]
  },
  {
   "cell_type": "code",
   "execution_count": 56,
   "metadata": {},
   "outputs": [
    {
     "name": "stdout",
     "output_type": "stream",
     "text": [
      "Job has been submitted to Intel(R) DevCloud and will execute soon.\n",
      "\n",
      "Job ID                    Name             User            Time Use S Queue\n",
      "------------------------- ---------------- --------------- -------- - -----\n",
      "822441.v-qsvr-1            job-regress.sh   u67633                 0 R batch          \n",
      "841072.v-qsvr-1            ...ub-singleuser u67633          00:04:02 R jupyterhub     \n",
      "841135.v-qsvr-1            job-classify.sh  u67633                 0 Q batch          \n",
      "\n",
      "Waiting for Output ████████████████████████████████████████████████████████████████████████████████ Done⬇\n",
      "\n",
      "########################################################################\n",
      "#      Date:           Sun 25 Apr 2021 12:52:38 AM PDT\n",
      "#    Job ID:           841135.v-qsvr-1.aidevcloud\n",
      "#      User:           u67633\n",
      "# Resources:           neednodes=1:core:ppn=2,nodes=1:core:ppn=2,walltime=06:00:00\n",
      "########################################################################\n",
      "\n",
      "Using CPU for DPCPP\n",
      "Device : Intel(R) Core(TM) i9-10920X CPU @ 3.50GHz\n",
      "N : 268435456 = 2^28\n",
      "N size : 268435456\n",
      "Random Age: 54  \n",
      "Start: 1619337171 End: 1619337226 Spent: 55\n",
      "Shortlisted sample_choice...\n",
      "41: Choice: 0\n",
      "81: Choice: 1\n",
      "145: Choice: 0\n",
      "400: Choice: 0\n",
      "277: Choice: 1\n",
      "With Age 54, we predict the person dislikes pineapple on pizza\n",
      "Start: 1619337171 End: 1619337226 Spent: 55\n",
      "\n",
      "########################################################################\n",
      "# End of output for job 841135.v-qsvr-1.aidevcloud\n",
      "# Date: Sun 25 Apr 2021 12:53:46 AM PDT\n",
      "########################################################################\n",
      "\n",
      "Job Completed in 80 seconds.\n"
     ]
    }
   ],
   "source": [
    "! chmod 755 q; chmod 755 job-classify.sh; if [ -x \"$(command -v qsub)\" ]; then ./q job-classify.sh core; else ./job-classify.sh core; fi"
   ]
  },
  {
   "cell_type": "markdown",
   "metadata": {},
   "source": [
    "### CPU - Xeon"
   ]
  },
  {
   "cell_type": "code",
   "execution_count": 81,
   "metadata": {},
   "outputs": [
    {
     "name": "stdout",
     "output_type": "stream",
     "text": [
      "Job has been submitted to Intel(R) DevCloud and will execute soon.\n",
      "\n",
      "Job ID                    Name             User            Time Use S Queue\n",
      "------------------------- ---------------- --------------- -------- - -----\n",
      "822441.v-qsvr-1            job-regress.sh   u67633                 0 R batch          \n",
      "841072.v-qsvr-1            ...ub-singleuser u67633          00:05:32 R jupyterhub     \n",
      "841167.v-qsvr-1            job-classify.sh  u67633                 0 Q batch          \n",
      "\n",
      "Waiting for Output ██████████████████████████████████████████████████████████████████████████████ Done⬇\n",
      "\n",
      "########################################################################\n",
      "#      Date:           Sun Apr 25 01:35:49 PDT 2021\n",
      "#    Job ID:           841167.v-qsvr-1.aidevcloud\n",
      "#      User:           u67633\n",
      "# Resources:           neednodes=1:xeon:ppn=2,nodes=1:xeon:ppn=2,walltime=06:00:00\n",
      "########################################################################\n",
      "\n",
      "Using CPU for DPCPP\n",
      "Device : Intel(R) Xeon(R) Gold 6128 CPU @ 3.40GHz\n",
      "N : 268435456 = 2^28\n",
      "N size : 268435456\n",
      "Random Age: 60  \n",
      "Start: 1619339767 End: 1619339818 Spent: 51\n",
      "Shortlisted sample_choice...\n",
      "10: Choice: 0\n",
      "187: Choice: 0\n",
      "144: Choice: 0\n",
      "491: Choice: 0\n",
      "387: Choice: 1\n",
      "With Age 60, we predict the person dislikes pineapple on pizza\n",
      "Start: 1619339767 End: 1619339818 Spent: 51\n",
      "\n",
      "########################################################################\n",
      "# End of output for job 841167.v-qsvr-1.aidevcloud\n",
      "# Date: Sun Apr 25 01:36:58 PDT 2021\n",
      "########################################################################\n",
      "\n",
      "Job Completed in 78 seconds.\n"
     ]
    }
   ],
   "source": [
    "! chmod 755 q; chmod 755 job-classify.sh; if [ -x \"$(command -v qsub)\" ]; then ./q job-classify.sh xeon; else ./job-classify.sh xeon; fi"
   ]
  },
  {
   "cell_type": "markdown",
   "metadata": {},
   "source": [
    "#### Update job script for GPU"
   ]
  },
  {
   "cell_type": "markdown",
   "metadata": {},
   "source": [
    "Update job-regress.sh to execute on GPU device using the custom_selector in the binary"
   ]
  },
  {
   "cell_type": "code",
   "execution_count": 63,
   "metadata": {},
   "outputs": [
    {
     "name": "stdout",
     "output_type": "stream",
     "text": [
      "Overwriting job-classify.sh\n"
     ]
    }
   ],
   "source": [
    "%%writefile job-classify.sh\n",
    "#!/bin/bash\n",
    "\n",
    "export OverrideDefaultFP64Settings=1 \n",
    "export IGC_EnableDPEmulation=1 \n",
    "\n",
    "./knn-classify -d gpu -p 28\n"
   ]
  },
  {
   "cell_type": "markdown",
   "metadata": {},
   "source": [
    "### GPU - Gen 9"
   ]
  },
  {
   "cell_type": "code",
   "execution_count": 68,
   "metadata": {},
   "outputs": [
    {
     "name": "stdout",
     "output_type": "stream",
     "text": [
      "Job has been submitted to Intel(R) DevCloud and will execute soon.\n",
      "\n",
      "Job ID                    Name             User            Time Use S Queue\n",
      "------------------------- ---------------- --------------- -------- - -----\n",
      "822441.v-qsvr-1            job-regress.sh   u67633                 0 R batch          \n",
      "841072.v-qsvr-1            ...ub-singleuser u67633          00:04:51 R jupyterhub     \n",
      "841155.v-qsvr-1            job-classify.sh  u67633                 0 Q batch          \n",
      "\n",
      "Waiting for Output ████████████████████████████████████████████████████ Done⬇\n",
      "\n",
      "########################################################################\n",
      "#      Date:           Sun 25 Apr 2021 01:14:35 AM PDT\n",
      "#    Job ID:           841155.v-qsvr-1.aidevcloud\n",
      "#      User:           u67633\n",
      "# Resources:           neednodes=1:gen9:ppn=2,nodes=1:gen9:ppn=2,walltime=06:00:00\n",
      "########################################################################\n",
      "\n",
      "Using GPU for DPCPP\n",
      "Device : Intel(R) UHD Graphics P630 [0x3e96]\n",
      "N : 268435456 = 2^28\n",
      "N size : 268435456\n",
      "Random Age: 59  \n",
      "Start: 1619338491 End: 1619338523 Spent: 32\n",
      "Shortlisted sample_choice...\n",
      "97: Choice: 0\n",
      "245: Choice: 0\n",
      "303: Choice: 0\n",
      "454: Choice: 1\n",
      "373: Choice: 1\n",
      "With Age 59, we predict the person dislikes pineapple on pizza\n",
      "Start: 1619338491 End: 1619338523 Spent: 32\n",
      "\n",
      "########################################################################\n",
      "# End of output for job 841155.v-qsvr-1.aidevcloud\n",
      "# Date: Sun 25 Apr 2021 01:15:23 AM PDT\n",
      "########################################################################\n",
      "\n",
      "Job Completed in 52 seconds.\n"
     ]
    }
   ],
   "source": [
    "! chmod 755 q; chmod 755 job-classify.sh; if [ -x \"$(command -v qsub)\" ]; then ./q job-classify.sh gen9; else ./job-classify.sh gen9; fi"
   ]
  },
  {
   "cell_type": "markdown",
   "metadata": {},
   "source": [
    "### GPU - Iris Max"
   ]
  },
  {
   "cell_type": "code",
   "execution_count": 73,
   "metadata": {},
   "outputs": [
    {
     "name": "stdout",
     "output_type": "stream",
     "text": [
      "Job has been submitted to Intel(R) DevCloud and will execute soon.\n",
      "\n",
      "Job ID                    Name             User            Time Use S Queue\n",
      "------------------------- ---------------- --------------- -------- - -----\n",
      "822441.v-qsvr-1            job-regress.sh   u67633                 0 R batch          \n",
      "841072.v-qsvr-1            ...ub-singleuser u67633          00:05:02 R jupyterhub     \n",
      "841160.v-qsvr-1            job-classify.sh  u67633                 0 Q batch          \n",
      "\n",
      "Waiting for Output ███████████████████████████████ Done⬇\n",
      "\n",
      "########################################################################\n",
      "#      Date:           Sun 25 Apr 2021 01:18:37 AM PDT\n",
      "#    Job ID:           841160.v-qsvr-1.aidevcloud\n",
      "#      User:           u67633\n",
      "# Resources:           neednodes=1:iris_xe_max:ppn=2,nodes=1:iris_xe_max:ppn=2,walltime=06:00:00\n",
      "########################################################################\n",
      "\n",
      "Using GPU for DPCPP\n",
      "Device : Intel(R) Iris(R) Xe MAX Graphics [0x4905]\n",
      "N : 268435456 = 2^28\n",
      "N size : 268435456\n",
      "Random Age: 67  \n",
      "Start: 1619338731 End: 1619338737 Spent: 6\n",
      "Shortlisted sample_choice...\n",
      "0: Choice: 0\n",
      "1: Choice: 1\n",
      "2: Choice: 0\n",
      "3: Choice: 1\n",
      "4: Choice: 1\n",
      "With Age 67, we predict the person likes pineapple on pizza\n",
      "Start: 1619338731 End: 1619338737 Spent: 6\n",
      "\n",
      "########################################################################\n",
      "# End of output for job 841160.v-qsvr-1.aidevcloud\n",
      "# Date: Sun 25 Apr 2021 01:18:58 AM PDT\n",
      "########################################################################\n",
      "\n",
      "Job Completed in 31 seconds.\n"
     ]
    }
   ],
   "source": [
    "! chmod 755 q; chmod 755 job-classify.sh; if [ -x \"$(command -v qsub)\" ]; then ./q job-classify.sh iris_xe_max; else ./job-classify.sh iris_xe_max; fi"
   ]
  },
  {
   "cell_type": "code",
   "execution_count": null,
   "metadata": {},
   "outputs": [],
   "source": []
  }
 ],
 "metadata": {
  "kernelspec": {
   "display_name": "Python 3.7 (Intel® oneAPI)",
   "language": "python",
   "name": "c009-intel_distribution_of_python_3_oneapi-beta05-python"
  },
  "language_info": {
   "codemirror_mode": {
    "name": "ipython",
    "version": 3
   },
   "file_extension": ".py",
   "mimetype": "text/x-python",
   "name": "python",
   "nbconvert_exporter": "python",
   "pygments_lexer": "ipython3",
   "version": "3.7.9"
  }
 },
 "nbformat": 4,
 "nbformat_minor": 4
}
